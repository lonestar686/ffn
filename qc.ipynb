{
 "cells": [
  {
   "cell_type": "code",
   "execution_count": 1,
   "metadata": {},
   "outputs": [
    {
     "name": "stdout",
     "output_type": "stream",
     "text": [
      " off = (0, 0, 0)\n",
      " off = (1, 1, 1)\n",
      " off = (1, 0, 0)\n",
      " off = (0, 1, 0)\n"
     ]
    }
   ],
   "source": [
    "# test itertools.chain\n",
    "import itertools\n",
    "fov_shifts=[(1, 1, 1), (1, 0, 0), (0, 1, 0)]\n",
    "for off in itertools.chain([(0, 0, 0)], fov_shifts):\n",
    "    print(' off = {}'.format(off))"
   ]
  },
  {
   "cell_type": "code",
   "execution_count": 2,
   "metadata": {},
   "outputs": [
    {
     "name": "stderr",
     "output_type": "stream",
     "text": [
      "/home/hzh/anaconda3/lib/python3.5/site-packages/h5py/__init__.py:36: FutureWarning: Conversion of the second argument of issubdtype from `float` to `np.floating` is deprecated. In future, it will be treated as `np.float64 == np.dtype(float).type`.\n",
      "  from ._conv import register_converters as _register_converters\n"
     ]
    }
   ],
   "source": [
    "import h5py\n",
    "import numpy as np"
   ]
  },
  {
   "cell_type": "code",
   "execution_count": 4,
   "metadata": {},
   "outputs": [
    {
     "name": "stdout",
     "output_type": "stream",
     "text": [
      "third_party/neuroproof_examples/validation_sample/groundtruth.h5 stack\n",
      " shape: (520, 520, 520), minv: 2, maxv: 6210\n",
      " type:int64, value:16\n"
     ]
    }
   ],
   "source": [
    "# groundtruth\n",
    "# './data/groundtruth.h5:stack'\n",
    "gt_file = 'third_party/neuroproof_examples/validation_sample/groundtruth.h5:stack' \n",
    "path, dataset=gt_file.split(':')\n",
    "print(path, dataset)\n",
    "\n",
    "# dataset\n",
    "f = h5py.File(path, 'r')\n",
    "segm = f[dataset]\n",
    "print(' shape: {}, minv: {}, maxv: {}'.format(segm.shape, np.amin(segm), np.amax(segm)) )\n",
    "print(' type:{}, value:{}'.format(np.dtype(segm), segm[0, 50, 50]) )"
   ]
  },
  {
   "cell_type": "code",
   "execution_count": 6,
   "metadata": {},
   "outputs": [
    {
     "name": "stdout",
     "output_type": "stream",
     "text": [
      "third_party/neuroproof_examples/validation_sample/grayscale_maps.h5 raw\n",
      " shape: (520, 520, 520), minv: 20, maxv: 221\n",
      " type:uint8, value:141\n"
     ]
    }
   ],
   "source": [
    "# data\n",
    "raw_file='third_party/neuroproof_examples/validation_sample/grayscale_maps.h5:raw'\n",
    "path, dataset=raw_file.split(':')\n",
    "print(path, dataset)\n",
    "# dataset\n",
    "f = h5py.File(path, 'r')\n",
    "raw = f[dataset]\n",
    "print(' shape: {}, minv: {}, maxv: {}'.format(raw.shape, np.amin(raw), np.amax(raw)))\n",
    "print(' type:{}, value:{}'.format(np.dtype(raw), raw[0, 50, 50]) )"
   ]
  },
  {
   "cell_type": "code",
   "execution_count": 7,
   "metadata": {},
   "outputs": [],
   "source": [
    "import neuroglancer\n",
    "import webbrowser\n",
    "\n",
    "viewer = neuroglancer.Viewer()"
   ]
  },
  {
   "cell_type": "code",
   "execution_count": 12,
   "metadata": {},
   "outputs": [
    {
     "name": "stdout",
     "output_type": "stream",
     "text": [
      "ViewerState({\"layers\": {\"ground_truth\": {\"source\": \"python://064d16efc200c0603d358f1e173640fe2f7a65e9.e02b0d05c8ce5ff00eacf798012d594f1dec0249\", \"type\": \"segmentation\"}, \"raw\": {\"source\": \"python://064d16efc200c0603d358f1e173640fe2f7a65e9.4ba4390a4bdc4d9ca5b82548519b2bcddebe0732\", \"type\": \"image\"}}, \"navigation\": {\"pose\": {\"position\": {\"voxelSize\": [1, 1, 1], \"voxelCoordinates\": [260, 260, 260]}}, \"zoomFactor\": 1}, \"perspectiveOrientation\": [-0.17739614844322205, 0.16468545794487, 0.0028907875530421734, 0.9702581763267517], \"perspectiveZoom\": 8})\n",
      "http://127.0.0.1:46586/v/064d16efc200c0603d358f1e173640fe2f7a65e9/\n"
     ]
    }
   ],
   "source": [
    "#\n",
    "segm = segm[...].astype('uint64')\n",
    "raw = raw[...]\n",
    "with viewer.txn() as s:\n",
    "    s.layers['ground_truth'] = neuroglancer.SegmentationLayer(\n",
    "        source=neuroglancer.LocalVolume(segm, )\n",
    "    )\n",
    "    s.layers['raw'] = neuroglancer.ImageLayer(\n",
    "        source=neuroglancer.LocalVolume(raw, )\n",
    "    )\n",
    "print(viewer.state)\n",
    "print(viewer)"
   ]
  },
  {
   "cell_type": "code",
   "execution_count": 13,
   "metadata": {},
   "outputs": [
    {
     "data": {
      "text/plain": [
       "True"
      ]
     },
     "execution_count": 13,
     "metadata": {},
     "output_type": "execute_result"
    }
   ],
   "source": [
    "# display in the web browser\n",
    "webbrowser.open_new(viewer.get_viewer_url())"
   ]
  },
  {
   "cell_type": "code",
   "execution_count": null,
   "metadata": {},
   "outputs": [],
   "source": [
    "import segyio\n",
    "\n",
    "### ---- Functions for Input data(SEG-Y) formatting and reading ----\n",
    "# Make a function that decompresses a segy-cube and creates a numpy array, and\n",
    "# a dictionary with the specifications, like in-line range and time step length, etc.\n",
    "def segy_decomp(segy_file, plot_data = False, read_direc='xline', inp_res = np.float64):\n",
    "    # segy_file: filename of the segy-cube to be imported\n",
    "    # plot_data: boolean that determines if a random xline should be plotted to test the reading\n",
    "    # read_direc: which way the SEGY-cube should be read; 'xline', or 'inline'\n",
    "    # inp_res: input resolution, the formatting of the seismic cube (could be changed to 8-bit data)\n",
    "\n",
    "    # Make an empty object to hold the output data\n",
    "    print('Starting SEG-Y decompressor')\n",
    "    output = segyio.spec()\n",
    "\n",
    "    # open the segyfile and start decomposing it\n",
    "    with segyio.open(segy_file, \"r\" ) as segyfile:\n",
    "        # Memory map file for faster reading (especially if file is big...)\n",
    "        segyfile.mmap()\n",
    "\n",
    "        # Store some initial object attributes\n",
    "        output.inl_start = segyfile.ilines[0]\n",
    "        output.inl_end = segyfile.ilines[-1]\n",
    "        output.inl_step = segyfile.ilines[1] - segyfile.ilines[0]\n",
    "\n",
    "        output.xl_start = segyfile.xlines[0]\n",
    "        output.xl_end = segyfile.xlines[-1]\n",
    "        output.xl_step = segyfile.xlines[1] - segyfile.xlines[0]\n",
    "\n",
    "        output.t_start = int(segyfile.samples[0])\n",
    "        output.t_end = int(segyfile.samples[-1])\n",
    "        output.t_step = int(segyfile.samples[1] - segyfile.samples[0])\n",
    "\n",
    "        # for qc\n",
    "        print(\" SEGY inline/xline/t geometry:\")\n",
    "        print(\" ils={}, ile={}, ili={}, ilen={}\\n\".format(output.inl_start, output.inl_end, \n",
    "                                                          output.inl_step,\n",
    "                                                          segyfile.xline.len))  # WARNING: WEIRD!!!\n",
    "        print(\" xls={}, xle={}, xli={}, xlen={}\\n\".format(output.xl_start, output.xl_end, \n",
    "                                                          output.xl_step,\n",
    "                                                          segyfile.iline.len))  # WARNING: WEIRD!!!\n",
    "        print(\" ts={}, te={}, ti={}\\n\".format(output.t_start, output.t_end, output.t_step))\n",
    "\n",
    "        # Pre-allocate a numpy array that holds the SEGY-cube\n",
    "        output.data = np.empty((segyfile.xline.len, segyfile.iline.len, \\\n",
    "                               (output.t_end - output.t_start)//output.t_step+1), \n",
    "                               dtype = np.float32)\n",
    "\n",
    "        # Read the entire cube line by line in the desired direction\n",
    "        if read_direc == 'inline':\n",
    "            # Potentially time this to find the \"fast\" direction\n",
    "            #start = time.time()\n",
    "            for il_index in range(segyfile.xline.len):     # WARNING: WEIRD!!!\n",
    "                output.data[il_index,:,:] = segyfile.iline[segyfile.ilines[il_index]]\n",
    "            #end = time.time()\n",
    "            #print(end - start)\n",
    "\n",
    "        elif read_direc == 'xline':\n",
    "            # Potentially time this to find the \"fast\" direction\n",
    "            #start = time.time()\n",
    "            for xl_index in range(segyfile.iline.len):    # WARNING: WEIRD!!!\n",
    "                output.data[:,xl_index,:] = segyfile.xline[segyfile.xlines[xl_index]]\n",
    "            #end = time.time()\n",
    "            #print(end - start)\n",
    "\n",
    "        elif read_direc == 'full':\n",
    "            ## NOTE: 'full' for some reason invokes float32 data\n",
    "            # Potentially time this to find the \"fast\" direction\n",
    "            #start = time.time()\n",
    "            output.data = segyio.tools.cube(segy_file)\n",
    "            #end = time.time()\n",
    "            #print(end - start)\n",
    "        else:\n",
    "            print('Define reading direction(read_direc) using either ''inline'', ''xline'', or ''full''')\n",
    "\n",
    "\n",
    "        # Convert the numpy array to span between -127 and 127 and convert to the desired format\n",
    "        factor = 127/np.amax(np.absolute(output.data))\n",
    "        if inp_res == np.float32:\n",
    "            output.data = (output.data*factor)\n",
    "        else:\n",
    "            output.data = (output.data*factor).astype(dtype = inp_res)\n",
    "\n",
    "        # If sepcified, plot a given x-line to test the read data\n",
    "        if plot_data:\n",
    "            # xline = 100\n",
    "            xline = np.random.randint(output.data.shape[1])\n",
    "\n",
    "            # Take a given xline\n",
    "            data = output.data[:,xline,:]\n",
    "            \n",
    "            # Plot the read x-line\n",
    "            plt.imshow(data.T,interpolation=\"nearest\", cmap=\"gray\")\n",
    "            plt.title(' xline={}'.format(xline))\n",
    "            plt.colorbar()\n",
    "            plt.show()\n",
    "\n",
    "\n",
    "    # Return the output object\n",
    "    print('Finished using the SEG-Y decompressor')\n",
    "    return output\n",
    "\n",
    "# load the data\n",
    "import os\n",
    "\n",
    "# Malenov, parameters for training or predicting\n",
    "file_dir = '/home/hzh/MachineLearning/segmentation/MalenoV/F3_seismic_data_plus_machine_learning/F3_seismic_data/'\n",
    "filename='F3_entire.segy'    # name of the segy-cube(s) with data , separate by comma 'volume' for additional volumes\n",
    "inp_res = np.float32    # formatting of the input seismic (e.g. np.int8 for 8-bit data, np.float32 for 32-bit data, etc)\n",
    "cube_incr = 32    # number of increments in each direction to create a training cube\n",
    "\n",
    "# SEGY iline/xline/t dimensions:\n",
    "ils=100; ile=750; ili=1\n",
    "xls=300; xle=1250; xli=1\n",
    "ts=4; te=1848; ti=4\n",
    "\n",
    "# \n",
    "segyfile = os.path.join(file_dir, filename)\n",
    "segy_obj = segy_decomp(segy_file = segyfile, plot_data = False, read_direc = 'full', inp_res = np.float32)\n",
    "\n",
    "\n",
    "# display the data\n",
    "import neuroglancer\n",
    "import webbrowser\n",
    "\n",
    "viewer = neuroglancer.Viewer()\n",
    "\n",
    "#\n",
    "raw = segy_obj\n",
    "with viewer.txn() as s:\n",
    "    s.layers['raw'] = neuroglancer.ImageLayer(\n",
    "        source=neuroglancer.LocalVolume(raw, )\n",
    "    )\n",
    "print(viewer.state)\n",
    "print(viewer)\n",
    "\n",
    "# display in the web browser\n",
    "webbrowser.open_new(viewer.get_viewer_url())"
   ]
  }
 ],
 "metadata": {
  "kernelspec": {
   "display_name": "Python 3",
   "language": "python",
   "name": "python3"
  },
  "language_info": {
   "codemirror_mode": {
    "name": "ipython",
    "version": 3
   },
   "file_extension": ".py",
   "mimetype": "text/x-python",
   "name": "python",
   "nbconvert_exporter": "python",
   "pygments_lexer": "ipython3",
   "version": "3.5.4"
  }
 },
 "nbformat": 4,
 "nbformat_minor": 2
}
